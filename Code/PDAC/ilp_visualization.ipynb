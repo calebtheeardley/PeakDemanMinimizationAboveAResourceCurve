{
 "cells": [
  {
   "cell_type": "markdown",
   "id": "fec514f1",
   "metadata": {},
   "source": [
    "# Calculate Job Power Schedules with ILP\n",
    "\n",
    "This program is designed to take in n number of distinct power scheduling jobs and determine their ideal ordering in to minimize the peak amount of power demand above a provided resource curve. \n",
    "\\\n",
    "Becuase this it an ILP program, it will find the optimal solution to the problem, but will take greater than polynomial time to do so. \n"
   ]
  },
  {
   "cell_type": "code",
   "execution_count": 1,
   "id": "6cab23c1",
   "metadata": {},
   "outputs": [],
   "source": [
    "import cplex\n",
    "import json\n",
    "import matplotlib.pyplot as plt\n",
    "import numpy as np\n",
    "import random"
   ]
  },
  {
   "cell_type": "markdown",
   "id": "00e94fcc",
   "metadata": {},
   "source": [
    "# Generate Jobs and Other Variables\n",
    "We need to generate the jobs, decision variables and extract other information that will be necessary for the ILP to run"
   ]
  },
  {
   "cell_type": "markdown",
   "id": "4d88428b",
   "metadata": {},
   "source": [
    "**Jobs** -> The power requiring tasks upon which this problem is built. Each job will have the following format:\n",
    "\\\n",
    "\\\n",
    "&emsp;&emsp;**release** -> The minimum time that a specific job can begin by. A job can begin no earlier than the release time \\\n",
    "&emsp;&emsp;**deadline** -> The maximum time that a job must complete by. A job can end no later than the deadline time \\\n",
    "&emsp;&emsp;**duration** -> The length (in minutes) that a task will need to complete \\\n",
    "&emsp;&emsp;**height** -> The amount of consistent power that a task will require"
   ]
  },
  {
   "cell_type": "code",
   "execution_count": 2,
   "id": "24a034b1",
   "metadata": {},
   "outputs": [],
   "source": [
    "# This is The list of job objects that will be scheduled\n",
    "# They each have a release, deadline, duration and height\n",
    "path = '../../Input_Data/job_data.json'\n",
    "with open(path, 'r') as file:\n",
    "    data = json.load(file)\n",
    "\n",
    "start_time = 0\n",
    "end_time = 1400\n",
    "max_length = 700\n",
    "batch_size = 50\n",
    "\n",
    "# Randomly shuffle the jobs so that there is variation between trials\n",
    "jobs_array = data['jobs']\n",
    "random.shuffle(jobs_array)\n",
    "\n",
    "jobs = []\n",
    "\n",
    "# Iterate through the job objects and create an array of objects that fall within the specified time window\n",
    "i = 0\n",
    "curr_index = 0\n",
    "while (i < batch_size):\n",
    "    aj = jobs_array[curr_index]['release']\n",
    "    dj = jobs_array[curr_index]['deadline']\n",
    "    lj = jobs_array[curr_index]['length']\n",
    "\n",
    "    # Check if the specific job lies within the correct window\n",
    "    # The funky syntax is used to put the job id at the very front of the dictionary\n",
    "    if aj >= start_time and dj <= end_time and lj <= max_length:\n",
    "        job_id = {\"job_id\" : i}\n",
    "        job_object = {**job_id, **jobs_array[curr_index]}\n",
    "        jobs.append(job_object)\n",
    "        \n",
    "        i += 1\n",
    "    \n",
    "    curr_index += 1"
   ]
  },
  {
   "cell_type": "markdown",
   "id": "400f1960",
   "metadata": {},
   "source": [
    "**Intervals** -> The overall intervals list is composed of exactly J sublists, where J = the number of total jobs\n",
    "\\\n",
    "\\\n",
    "&emsp;&emsp;- Each entry within a sublist is a two integer tuple representing a possible start and end execution time for the corresponding job \\\n",
    "&emsp;&emsp;- For example, the entry (3, 6) in the intervals[0] means that the first job can possibly execute between time steps 3 and 6 (where the start \\\n",
    "&emsp;&emsp;time is inclusive and the end time is exclusive)"
   ]
  },
  {
   "cell_type": "code",
   "execution_count": 3,
   "id": "cd2e5d97",
   "metadata": {},
   "outputs": [],
   "source": [
    "intervals = [[] for _ in range(len(jobs))]\n",
    "for i, job in enumerate(jobs):\n",
    "    # Extract the necessary information from the job object\n",
    "    release = job['release'] - start_time\n",
    "    deadline = job['deadline'] - start_time\n",
    "    duration = job['length']\n",
    "    num = release\n",
    "\n",
    "    # Add the execution intervals to the sublist\n",
    "    while (num + duration <= deadline):\n",
    "        intervals[i].append((num, num + duration))\n",
    "        num += 1"
   ]
  },
  {
   "cell_type": "markdown",
   "id": "d680d358",
   "metadata": {},
   "source": [
    "**Time Steps** -> This is simply the number of time steps in the time period between the specified start and end time. Each time step equates to exactly one minute."
   ]
  },
  {
   "cell_type": "code",
   "execution_count": 4,
   "id": "5206ced2",
   "metadata": {},
   "outputs": [],
   "source": [
    "# Specify the number of time steps \n",
    "num_time_steps = end_time - start_time"
   ]
  },
  {
   "cell_type": "markdown",
   "id": "2a66437c",
   "metadata": {},
   "source": [
    "**Resources** -> This is a list that keeps track of the amount of available resources at each time step\n",
    "\\\n",
    "\\\n",
    "&emsp;&emsp;- The resource curve information will be gathered from the Data/ folder."
   ]
  },
  {
   "cell_type": "code",
   "execution_count": 5,
   "id": "3d6e3615",
   "metadata": {},
   "outputs": [],
   "source": [
    "# Instantiate the resource curve\n",
    "\n",
    "path = '../../Input_Data/solar_data.json'\n",
    "with open(path, 'r') as file:\n",
    "    data = json.load(file)\n",
    "\n",
    "wind_energy = data['series'][1]['data']\n",
    "solar_energy = data['series'][2]['data']\n",
    "hydro_energy = data['series'][3]['data']\n",
    "\n",
    "# Have 165 hours and you want minute by minute resolution. Therefore the total length of this list needs to be 165 * 60 in length\n",
    "# The first 60 values of the list need to equal 0, the next need to equal 1. Therefore, i // 60\n",
    "wind_energy_7_days = [0 for _ in range(165 * 60)]\n",
    "for i in range(len(wind_energy_7_days)):\n",
    "    wind_energy_7_days[i] = wind_energy[ i // 60 ]['value']\n",
    "\n",
    "solar_energy_7_days = [0 for _ in range(165 * 60)]\n",
    "for i in range(len(solar_energy_7_days)):\n",
    "    solar_energy_7_days[i] = solar_energy[ i // 60 ]['value']\n",
    "\n",
    "hydro_energy_7_days = [0 for _ in range(165 * 60)]\n",
    "for i in range(len(hydro_energy_7_days)):\n",
    "    hydro_energy_7_days[i] = hydro_energy[ i // 60 ]['value']\n",
    "\n",
    "\n",
    "total = []\n",
    "for i in range(165 * 60):\n",
    "    total_sum = wind_energy_7_days[i] + solar_energy_7_days[i] + hydro_energy_7_days[i]\n",
    "    total.append(total_sum)\n",
    "\n",
    "resources = total[start_time:end_time]\n"
   ]
  },
  {
   "cell_type": "markdown",
   "id": "d8291f57",
   "metadata": {},
   "source": [
    "**Height** -> This is a list containing exactly J entries, where each entry contains that height of the corresponding job. The height of the jobs will be dependent on a scale factor. For now, we will scale the jobs based on the relationship between the max value of the resource curve and the max value of the naive job schedule\n",
    "\\\n",
    "\\\n",
    "The naive job schedule, generated below, scehdules each job exactly at their respective start times. From this, we generate the scale factor. We want the peak to be 75% above the resource curve (for now)\n",
    "\\\n",
    "\\\n",
    "&emsp;&emsp;- The height is another word for the amount of the given resource that a job will consistently require while it is running.\n",
    "\\\n",
    "&emsp;&emsp;- Therefore, height[0] = 400 means that the first job requires 400 unites of the given resource\n",
    "\\\n"
   ]
  },
  {
   "cell_type": "code",
   "execution_count": 6,
   "id": "a72383c7",
   "metadata": {},
   "outputs": [],
   "source": [
    "bad_heights = [0 for _ in range(num_time_steps)]\n",
    "for job in jobs:\n",
    "    aj = job['release'] - start_time\n",
    "    hj = job['height']\n",
    "    lj = job['length']\n",
    "\n",
    "    for i in range(aj, aj + lj):\n",
    "        bad_heights[i] += hj\n",
    "\n",
    "\n",
    "scale_factor = (max(resources) * 2) / max(bad_heights)"
   ]
  },
  {
   "cell_type": "code",
   "execution_count": 7,
   "id": "41c94d71",
   "metadata": {},
   "outputs": [],
   "source": [
    "# Iterate through the jobs and add their corresponding heights\n",
    "height = [job['height'] * scale_factor for job in jobs]"
   ]
  },
  {
   "cell_type": "markdown",
   "id": "f6f3111b",
   "metadata": {},
   "source": [
    "# Decision Variables\n",
    "**Decision variables** -> A key component of the ILP. They represent each distint execution interval for each job. They can assume any value in [0, 1]. \n",
    "\\\n",
    "\\\n",
    "&emsp;&emsp;- This code creates a list of decision variables with the form {'name': x_i_j, value: ?} where each name is a distinct time interval for a distinct job. \n",
    "\\\n",
    "&emsp;&emsp;- Specifically, this is saying that decision variable x_i_j is the ith possible interval for job j where the value is the actual interval of time steps. \n",
    "\\\n",
    "&emsp;&emsp;- This is stored here so we don't have to repeatedly query the intervals list\n",
    "\\\n",
    "\\\n",
    "**Objective variable** -> Instantiate the variable that will be minimized during the problem's execution"
   ]
  },
  {
   "cell_type": "code",
   "execution_count": 8,
   "id": "8642c4c0",
   "metadata": {},
   "outputs": [],
   "source": [
    "decision_variables = []\n",
    "for j, interval_set in enumerate(intervals):\n",
    "    for i, interval in enumerate(interval_set):\n",
    "        # Add the decision variable and it's corresponding interval to the list\n",
    "        decision_variables.append({'name' : f'x_{i}_{j}', 'value': interval})\n",
    "\n",
    "# Instantiate the objective variable\n",
    "objective_variable = 'd'"
   ]
  },
  {
   "cell_type": "markdown",
   "id": "82e79c5b",
   "metadata": {},
   "source": [
    "# Create the ILP\n",
    "Create an ILP problem with CPLEX. We have to specify the decision variables for the problem. And then we must specify their respective upper bounds and lower bounds.\n",
    "\\\n",
    "\\\n",
    "Finally we have to set up the objective function. In this case, the objective function will be to minimize a variable named 'd'. Where d is initially set to the highest point the job schedule curve could possibly be, which is the total sum of the 'heights' list."
   ]
  },
  {
   "cell_type": "code",
   "execution_count": 9,
   "id": "a1983184",
   "metadata": {},
   "outputs": [
    {
     "data": {
      "text/plain": [
       "range(0, 3943)"
      ]
     },
     "execution_count": 9,
     "metadata": {},
     "output_type": "execute_result"
    }
   ],
   "source": [
    "# Create the cplex problem\n",
    "problem = cplex.Cplex()\n",
    "problem.set_problem_type(cplex.Cplex.problem_type.LP)\n",
    "problem.set_results_stream(None)\n",
    "\n",
    "# Maximize objective\n",
    "problem.objective.set_sense(problem.objective.sense.minimize)\n",
    "\n",
    "# This retrieves the names of all of the decision variables \n",
    "names = [variable['name'] for variable in decision_variables] + [objective_variable]\n",
    "\n",
    "# these are the other parameters needed to form the basis of the linear programming problem\n",
    "obj = [0 for _ in range(len(decision_variables))] + [1]\n",
    "lb = [0 for _ in range(len(decision_variables))] + [0]\n",
    "ub = [1 for _ in range(len(decision_variables)) ] + [sum(height)]\n",
    "\n",
    "# Establish the problem\n",
    "types = [problem.variables.type.integer] * (len(decision_variables)) + [problem.variables.type.continuous]\n",
    "problem.variables.add(obj=obj, lb=lb, ub=ub, types=types, names=names)"
   ]
  },
  {
   "cell_type": "markdown",
   "id": "58230921",
   "metadata": {},
   "source": [
    "# Constraints\n",
    "This will generate the first set of constraints\n",
    "\n",
    "This for loop adds the constraints that make it so that a job can run during only one interval. So for each job, aggregate all of the decision variables that correspond to each possible execution interval for that job. Then specify that they all of those decision variables can only add up to one  "
   ]
  },
  {
   "cell_type": "code",
   "execution_count": 10,
   "id": "aa0cecdd",
   "metadata": {},
   "outputs": [],
   "source": [
    "curr_index = 0\n",
    "for interval in intervals:\n",
    "    # Aggregate all the decision variables that belong to one job\n",
    "    variables = decision_variables[curr_index : curr_index + (len(interval))]\n",
    "    variables = [v['name'] for v in variables]\n",
    "    curr_index += len(interval)\n",
    "    \n",
    "    # The coefficient of each decision variable is one\n",
    "    constraints = [1 for _ in range(len(variables))]\n",
    "\n",
    "    # This is saying that the sum of each of the decision variabels can only equal one\n",
    "    problem.linear_constraints.add(\n",
    "        lin_expr=[ [ variables, constraints ] ],\n",
    "        senses=['E'],\n",
    "        rhs=[1]\n",
    "    )"
   ]
  },
  {
   "cell_type": "markdown",
   "id": "5039e3f9",
   "metadata": {},
   "source": [
    "This generates the second set of constraints \n",
    "\\\n",
    "\\\n",
    "It aggregates all of the desicion variables that correspond to intervals that could possibly be running during that time step. /\n",
    "It then aggregates the heights corresponding to the jobs that each decision variable represents. \n",
    "It multiplies those heights by the decision variables. However, the constrain ensures that the total sum is less than the max height d"
   ]
  },
  {
   "cell_type": "code",
   "execution_count": 11,
   "id": "2cb8b097",
   "metadata": {},
   "outputs": [],
   "source": [
    "for i in range(num_time_steps):\n",
    "    use_variables = []\n",
    "    use_height = []\n",
    "\n",
    "    for variable in decision_variables:\n",
    "        \n",
    "        # Check the interval times of the corresponding variable\n",
    "        # Then check if the current timestep falls within that interval\n",
    "        job_interval_start, job_interval_end = variable['value'][0], variable['value'][1]\n",
    "\n",
    "        # if i >= job_interval_start and i <= job_interval_end: #COME BACK TO THIS\n",
    "        if job_interval_start <= i < job_interval_end:\n",
    "            job_id = int(variable['name'].split('_')[-1])\n",
    "\n",
    "            use_height.append(height[job_id])\n",
    "            use_variables.append(variable['name'])\n",
    "\n",
    "    # Add d to the decision variables \n",
    "    use_variables.append('d')\n",
    "    use_height.append(-1)\n",
    "\n",
    "    # Add the linear constraint to the problem\n",
    "    problem.linear_constraints.add(\n",
    "        lin_expr=[ [ use_variables, use_height ] ],\n",
    "        senses=['L'],\n",
    "        rhs=[resources[i]]\n",
    "    )"
   ]
  },
  {
   "cell_type": "markdown",
   "id": "10e359ee",
   "metadata": {},
   "source": [
    "# Solve the ILP problem\n",
    "\n",
    "Use CPLEX to solve the formulated ILP problem and then use post processing to extract the intervals each job will run in."
   ]
  },
  {
   "cell_type": "code",
   "execution_count": 12,
   "id": "ee419607",
   "metadata": {},
   "outputs": [
    {
     "name": "stdout",
     "output_type": "stream",
     "text": [
      "Status: integer optimal solution\n",
      "Objective value: 4565.076725542382\n"
     ]
    }
   ],
   "source": [
    "problem.solve()\n",
    "\n",
    "solution = problem.solution\n",
    "print(\"Status:\", solution.get_status_string())\n",
    "print(\"Objective value:\", solution.get_objective_value())"
   ]
  },
  {
   "cell_type": "markdown",
   "id": "cde74d7e",
   "metadata": {},
   "source": [
    "This code does some post processing to generate a list that represents the aggregated heights of all the jobs when they execute in their chosen execution windows"
   ]
  },
  {
   "cell_type": "code",
   "execution_count": 13,
   "id": "dd526506",
   "metadata": {},
   "outputs": [],
   "source": [
    "final_heights = [0 for _ in range(num_time_steps)]\n",
    "for name in names:\n",
    "    val = solution.get_values(name)\n",
    "\n",
    "    if val == 1 and name != 'd':\n",
    "        job_id = int(name.split('_')[-1])\n",
    "        interval_id = int(name.split('_')[1])\n",
    "        interval = intervals[job_id][interval_id]\n",
    "    \n",
    "        for i in range(interval[0], interval[1]):\n",
    "            final_heights[i] += height[job_id]"
   ]
  },
  {
   "cell_type": "markdown",
   "id": "7fb8fd48",
   "metadata": {},
   "source": [
    "# Plot the Jobs\n",
    "\n",
    "Use Matplotlib to plot the jobs on a curve"
   ]
  },
  {
   "cell_type": "code",
   "execution_count": 14,
   "id": "f0af5446",
   "metadata": {},
   "outputs": [
    {
     "data": {
      "image/png": "[encoded data removed]",
      "text/plain": [
       "<Figure size 640x480 with 1 Axes>"
      ]
     },
     "metadata": {},
     "output_type": "display_data"
    }
   ],
   "source": [
    "job_graph_xvalues = np.array([i for i in range(start_time, end_time)])\n",
    "job_graph_yvalues = np.array(final_heights)\n",
    "\n",
    "plt.bar(job_graph_xvalues, job_graph_yvalues, label=\"jobs\", width=0.5)\n",
    "plt.plot(job_graph_xvalues, resources, label='resources', color='orange')\n",
    "\n",
    "plt.xlabel(\"Time\")\n",
    "plt.ylabel(\"Power Units\")\n",
    "\n",
    "plt.show()\n"
   ]
  }
 ],
 "metadata": {
  "kernelspec": {
   "display_name": "Python 3",
   "language": "python",
   "name": "python3"
  },
  "language_info": {
   "codemirror_mode": {
    "name": "ipython",
    "version": 3
   },
   "file_extension": ".py",
   "mimetype": "text/x-python",
   "name": "python",
   "nbconvert_exporter": "python",
   "pygments_lexer": "ipython3",
   "version": "3.10.12"
  }
 },
 "nbformat": 4,
 "nbformat_minor": 5
}
