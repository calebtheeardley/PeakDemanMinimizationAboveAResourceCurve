{
 "cells": [
  {
   "cell_type": "markdown",
   "id": "fec514f1",
   "metadata": {},
   "source": [
    "# Calculate Job Power Schedules with ILP\n",
    "\n",
    "This program is designed to take in n number of distinct power scheduling jobs and determine their ideal ordering in to minimize the peak amount of power demand above a provided resource curve. \n",
    "\\\n",
    "Becuase this it an ILP program, it will find the optimal solution to the problem, but will take greater than polynomial time to do so. \n"
   ]
  },
  {
   "cell_type": "code",
   "execution_count": 152,
   "id": "6cab23c1",
   "metadata": {},
   "outputs": [],
   "source": [
    "import cplex\n",
    "import json\n",
    "import matplotlib.pyplot as plt\n",
    "import numpy as np"
   ]
  },
  {
   "cell_type": "markdown",
   "id": "00e94fcc",
   "metadata": {},
   "source": [
    "# Generate Jobs and Other Variables\n",
    "We need to generate the jobs, decision variables and extract other information that will be necessary for the ILP to run"
   ]
  },
  {
   "cell_type": "markdown",
   "id": "4d88428b",
   "metadata": {},
   "source": [
    "**Jobs** -> The power requiring tasks upon which this problem is built. Each job will have the following format:\n",
    "\\\n",
    "\\\n",
    "&emsp;&emsp;**release** -> The minimum time that a specific job can begin by. A job can begin no earlier than the release time \\\n",
    "&emsp;&emsp;**deadline** -> The maximum time that a job must complete by. A job can end no later than the deadline time \\\n",
    "&emsp;&emsp;**duration** -> The length (in minutes) that a task will need to complete \\\n",
    "&emsp;&emsp;**height** -> The amount of consistent power that a task will require"
   ]
  },
  {
   "cell_type": "code",
   "execution_count": 153,
   "id": "24a034b1",
   "metadata": {},
   "outputs": [],
   "source": [
    "# jobs = [ \n",
    "#     {'release' : 0, 'deadline' : 4, 'duration' : 2, 'height' : 1},  \n",
    "#     {'release' : 1, 'deadline' : 6, 'duration' : 1, 'height' : 2},\n",
    "#     {'release' : 3, 'deadline' : 8, 'duration' : 2, 'height' : 1},\n",
    "#     {'release' : 4, 'deadline' : 6, 'duration' : 2, 'height' : 2},\n",
    "#     {'release' : 0, 'deadline' : 5, 'duration' : 1, 'height' : 1},\n",
    "#     {'release' : 3, 'deadline' : 7, 'duration' : 1, 'height' : 1},\n",
    "#     {'release' : 5, 'deadline' : 7, 'duration' : 1, 'height' : 3},\n",
    "#     {'release' : 0, 'deadline' : 8, 'duration' : 1, 'height' : 2},\n",
    "# ]\n",
    "\n",
    "start_time = 3\n",
    "end_time = 9\n",
    "\n",
    "jobs = [{'release' : 3, 'deadline' : 8, 'length' : 1, 'height' : 2} for _ in range(8)]\n",
    "\n",
    "\n",
    "# path = 'jobs.json'\n",
    "# with open(path, 'r') as file:\n",
    "#     data = json.load(file)\n",
    "\n",
    "# jobs = data['jobs']\n",
    "\n",
    "# start_time = 0\n",
    "# end_time = 600"
   ]
  },
  {
   "cell_type": "markdown",
   "id": "400f1960",
   "metadata": {},
   "source": [
    "**Intervals** -> The overall intervals list is composed of exactly J sublists, where J = the number of total jobs\n",
    "\\\n",
    "\\\n",
    "&emsp;&emsp;- Each entry within a sublist is a two integer tuple representing a possible start and end execution time for the corresponding job \\\n",
    "&emsp;&emsp;- For example, the entry (3, 6) in the intervals[0] means that the first job can possibly execute between time steps 3 and 6 (where the start \\\n",
    "&emsp;&emsp;time is inclusive and the end time is exclusive)"
   ]
  },
  {
   "cell_type": "code",
   "execution_count": 154,
   "id": "cd2e5d97",
   "metadata": {},
   "outputs": [],
   "source": [
    "intervals = [[] for _ in range(len(jobs))]\n",
    "for i, job in enumerate(jobs):\n",
    "    # Extract the necessary information from the job object\n",
    "    release = job['release'] - start_time\n",
    "    deadline = job['deadline'] - start_time\n",
    "    duration = job['length']\n",
    "    num = release\n",
    "\n",
    "    # Add the execution intervals to the sublist\n",
    "    while (num + duration <= deadline):\n",
    "        intervals[i].append((num, num + duration))\n",
    "        num += 1"
   ]
  },
  {
   "cell_type": "markdown",
   "id": "d680d358",
   "metadata": {},
   "source": [
    "**Height** -> This is a list containing exactly J entries, where each entry contains that height of the corresponding job.\n",
    "\\\n",
    "\\\n",
    "&emsp;&emsp;- The height is another word for the amount of the given resource that a job will consistently require while it is running. \\\n",
    "&emsp;&emsp;- Therefore, height[0] = 400 means that the first job requires 400 unites of the given resource\n",
    "\\\n",
    "\\\n",
    "**Time Steps** -> This is simply the number of time steps in the time period between the specified start and end time. Each time step equates to exactly one minute\n",
    "\\\n",
    "\\\n",
    "**Resources** -> This is a list that keeps track of the amount of available resources at each time step"
   ]
  },
  {
   "cell_type": "code",
   "execution_count": 155,
   "id": "5206ced2",
   "metadata": {},
   "outputs": [],
   "source": [
    "# Iterate through the jobs and add their corresponding heights\n",
    "height = [job['height'] for job in jobs]\n",
    "\n",
    "# Specify the number of time steps \n",
    "num_time_steps = end_time - start_time\n",
    "\n",
    "# Instantiate the resource curve\n",
    "resources = [0, 2, 2, 6, 6, 0]"
   ]
  },
  {
   "cell_type": "markdown",
   "id": "f6f3111b",
   "metadata": {},
   "source": [
    "# Decision Variables\n",
    "**Decision variables** -> A key component of the ILP. They represent each distint execution interval for each job. They can assume any value in [0, 1]. \n",
    "\\\n",
    "\\\n",
    "&emsp;&emsp;- This code creates a list of decision variables with the form {'name': x_i_j, value: ?} where each name is a distinct time interval for a distinct job. \n",
    "\\\n",
    "&emsp;&emsp;- Specifically, this is saying that decision variable x_i_j is the ith possible interval for job j where the value is the actual interval of time steps. \n",
    "\\\n",
    "&emsp;&emsp;- This is stored here so we don't have to repeatedly query the intervals list\n",
    "\\\n",
    "\\\n",
    "**Objective variable** -> Instantiate the variable that will be minimized during the problem's execution"
   ]
  },
  {
   "cell_type": "code",
   "execution_count": 156,
   "id": "8642c4c0",
   "metadata": {},
   "outputs": [],
   "source": [
    "decision_variables = []\n",
    "for j, interval_set in enumerate(intervals):\n",
    "    for i, interval in enumerate(interval_set):\n",
    "        # Add the decision variable and it's corresponding interval to the list\n",
    "        decision_variables.append({'name' : f'x_{i}_{j}', 'value': interval})\n",
    "\n",
    "# Instantiate the objective variable\n",
    "objective_variable = 'd'"
   ]
  },
  {
   "cell_type": "markdown",
   "id": "82e79c5b",
   "metadata": {},
   "source": [
    "# Create the ILP\n",
    "Create an ILP problem with CPLEX. We have to specify the decision variables for the problem. And then we must specify their respective upper bounds and lower bounds.\n",
    "\\\n",
    "\\\n",
    "Finally we have to set up the objective function. In this case, the objective function will be to minimize a variable named 'd'. Where d is initially set to the highest point the job schedule curve could possibly be, which is the total sum of the 'heights' list."
   ]
  },
  {
   "cell_type": "code",
   "execution_count": 157,
   "id": "a1983184",
   "metadata": {},
   "outputs": [
    {
     "data": {
      "text/plain": [
       "range(0, 41)"
      ]
     },
     "execution_count": 157,
     "metadata": {},
     "output_type": "execute_result"
    }
   ],
   "source": [
    "# Create the cplex problem\n",
    "problem = cplex.Cplex()\n",
    "problem.set_problem_type(cplex.Cplex.problem_type.LP)\n",
    "problem.set_results_stream(None)\n",
    "\n",
    "# Maximize objective\n",
    "problem.objective.set_sense(problem.objective.sense.minimize)\n",
    "\n",
    "# This retrieves the names of all of the decision variables \n",
    "names = [variable['name'] for variable in decision_variables] + [objective_variable]\n",
    "\n",
    "# these are the other parameters needed to form the basis of the linear programming problem\n",
    "obj = [0 for _ in range(len(decision_variables))] + [1]\n",
    "lb = [0 for _ in range(len(decision_variables))] + [0]\n",
    "ub = [1 for _ in range(len(decision_variables)) ] + [sum(height)]\n",
    "\n",
    "# Establish the problem\n",
    "types = [problem.variables.type.integer] * (len(decision_variables)) + [problem.variables.type.continuous]\n",
    "problem.variables.add(obj=obj, lb=lb, ub=ub, types=types, names=names)"
   ]
  },
  {
   "cell_type": "markdown",
   "id": "58230921",
   "metadata": {},
   "source": [
    "# Constraints\n",
    "This will generate the first set of constraints\n",
    "\n",
    "This for loop adds the constraints that make it so that a job can run during only one interval. So for each job, aggregate all of the decision variables that correspond to each possible execution interval for that job. Then specify that they all of those decision variables can only add up to one  "
   ]
  },
  {
   "cell_type": "code",
   "execution_count": 158,
   "id": "aa0cecdd",
   "metadata": {},
   "outputs": [],
   "source": [
    "curr_index = 0\n",
    "for interval in intervals:\n",
    "    # Aggregate all the decision variables that belong to one job\n",
    "    variables = decision_variables[curr_index : curr_index + (len(interval))]\n",
    "    variables = [v['name'] for v in variables]\n",
    "    curr_index += len(interval)\n",
    "    \n",
    "    # The coefficient of each decision variable is one\n",
    "    constraints = [1 for _ in range(len(variables))]\n",
    "\n",
    "    # This is saying that the sum of each of the decision variabels can only equal one\n",
    "    problem.linear_constraints.add(\n",
    "        lin_expr=[ [ variables, constraints ] ],\n",
    "        senses=['E'],\n",
    "        rhs=[1]\n",
    "    )"
   ]
  },
  {
   "cell_type": "markdown",
   "id": "5039e3f9",
   "metadata": {},
   "source": [
    "This generates the second set of constraints \n",
    "\\\n",
    "\\\n",
    "It aggregates all of the desicion variables that correspond to intervals that could possibly be running during that time step. /\n",
    "It then aggregates the heights corresponding to the jobs that each decision variable represents. \n",
    "It multiplies those heights by the decision variables. However, the constrain ensures that the total sum is less than the max height d"
   ]
  },
  {
   "cell_type": "code",
   "execution_count": 159,
   "id": "2cb8b097",
   "metadata": {},
   "outputs": [],
   "source": [
    "for i in range(num_time_steps):\n",
    "    use_variables = []\n",
    "    use_height = []\n",
    "\n",
    "    for variable in decision_variables:\n",
    "        \n",
    "        # Check the interval times of the corresponding variable\n",
    "        # Then check if the current timestep falls within that interval\n",
    "        job_interval_start, job_interval_end = variable['value'][0], variable['value'][1]\n",
    "\n",
    "        # if i >= job_interval_start and i <= job_interval_end: #COME BACK TO THIS\n",
    "        if job_interval_start <= i < job_interval_end:\n",
    "            job_id = int(variable['name'].split('_')[-1])\n",
    "\n",
    "            use_height.append(height[job_id])\n",
    "            use_variables.append(variable['name'])\n",
    "\n",
    "    # Add d to the decision variables \n",
    "    use_variables.append('d')\n",
    "    use_height.append(-1)\n",
    "\n",
    "    # Add the linear constraint to the problem\n",
    "    problem.linear_constraints.add(\n",
    "        lin_expr=[ [ use_variables, use_height ] ],\n",
    "        senses=['L'],\n",
    "        rhs=[resources[i]]\n",
    "    )"
   ]
  },
  {
   "cell_type": "markdown",
   "id": "10e359ee",
   "metadata": {},
   "source": [
    "# Solve the ILP problem\n",
    "\n",
    "Use CPLEX to solve the formulated ILP problem and then use post processing to extract the intervals each job will run in."
   ]
  },
  {
   "cell_type": "code",
   "execution_count": 160,
   "id": "ee419607",
   "metadata": {},
   "outputs": [
    {
     "name": "stdout",
     "output_type": "stream",
     "text": [
      "Status: integer optimal solution\n",
      "Objective value: 0.0\n"
     ]
    }
   ],
   "source": [
    "problem.solve()\n",
    "\n",
    "solution = problem.solution\n",
    "print(\"Status:\", solution.get_status_string())\n",
    "print(\"Objective value:\", solution.get_objective_value())\n",
    "\n",
    "# for name in names:\n",
    "#     val = solution.get_values(name)\n",
    "\n",
    "#     if val == 1 and name != 'd':\n",
    "\n",
    "#         job_id = int(name.split('_')[-1])\n",
    "#         interval_id = int(name.split('_')[1])\n",
    "#         print(f\"Job {job_id} interval: {intervals[job_id][interval_id]}\")"
   ]
  },
  {
   "cell_type": "markdown",
   "id": "cde74d7e",
   "metadata": {},
   "source": [
    "This code does some post processing to generate a list that represents the aggregated heights of all the jobs when they execute in their chosen execution windows"
   ]
  },
  {
   "cell_type": "code",
   "execution_count": 161,
   "id": "dd526506",
   "metadata": {},
   "outputs": [],
   "source": [
    "final_heights = [0 for _ in range(num_time_steps)]\n",
    "for name in names:\n",
    "    val = solution.get_values(name)\n",
    "\n",
    "    if val == 1 and name != 'd':\n",
    "        job_id = int(name.split('_')[-1])\n",
    "        interval_id = int(name.split('_')[1])\n",
    "        interval = intervals[job_id][interval_id]\n",
    "    \n",
    "        for i in range(interval[0], interval[1]):\n",
    "            final_heights[i] += height[job_id]"
   ]
  },
  {
   "cell_type": "markdown",
   "id": "7fb8fd48",
   "metadata": {},
   "source": [
    "# Plot the Jobs\n",
    "\n",
    "Use Matplotlib to plot the jobs on a curve"
   ]
  },
  {
   "cell_type": "code",
   "execution_count": 162,
   "id": "f0af5446",
   "metadata": {},
   "outputs": [
    {
     "data": {
      "image/png": "[encoded data removed]",
      "text/plain": [
       "<Figure size 640x480 with 1 Axes>"
      ]
     },
     "metadata": {},
     "output_type": "display_data"
    }
   ],
   "source": [
    "job_graph_xvalues = np.array([i for i in range(start_time, end_time)])\n",
    "job_graph_yvalues = np.array(final_heights)\n",
    "\n",
    "plt.bar(job_graph_xvalues, job_graph_yvalues, label=\"jobs\", width=0.5)\n",
    "plt.plot(job_graph_xvalues, resources, label='resources', color='orange')\n",
    "\n",
    "plt.xlabel(\"Time\")\n",
    "plt.ylabel(\"Power Units\")\n",
    "\n",
    "plt.show()\n"
   ]
  }
 ],
 "metadata": {
  "kernelspec": {
   "display_name": "Python 3",
   "language": "python",
   "name": "python3"
  },
  "language_info": {
   "codemirror_mode": {
    "name": "ipython",
    "version": 3
   },
   "file_extension": ".py",
   "mimetype": "text/x-python",
   "name": "python",
   "nbconvert_exporter": "python",
   "pygments_lexer": "ipython3",
   "version": "3.10.12"
  }
 },
 "nbformat": 4,
 "nbformat_minor": 5
}
