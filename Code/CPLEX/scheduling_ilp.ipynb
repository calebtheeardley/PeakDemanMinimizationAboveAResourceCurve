{
 "cells": [
  {
   "cell_type": "markdown",
   "id": "fec514f1",
   "metadata": {},
   "source": [
    "# Calculate Job Power Schedules with ILP\n",
    "\n",
    "This program is designed to take in n number of distinct power scheduling jobs and determine their ideal ordering in to minimize the peak amount of power demand above a provided resource curve. \n",
    "\\\n",
    "Becuase this it an ILP program, it will find the optimal solution to the problem, but will take greater than polynomial time to do so. \n"
   ]
  },
  {
   "cell_type": "code",
   "execution_count": 152,
   "id": "6cab23c1",
   "metadata": {},
   "outputs": [],
   "source": [
    "import cplex\n",
    "import json\n",
    "import matplotlib.pyplot as plt\n",
    "import numpy as np"
   ]
  },
  {
   "cell_type": "markdown",
   "id": "00e94fcc",
   "metadata": {},
   "source": [
    "# Generate Jobs and Decision Variables\n",
    "We need to generate the jobs, decision variables and extract other information that will be necessary for the ILP to run"
   ]
  },
  {
   "cell_type": "markdown",
   "id": "4d88428b",
   "metadata": {},
   "source": [
    "The Jobs used for the ILP will be instantiated here. Each job will have the following format:\n",
    "\\\n",
    "\\\n",
    "&emsp;&emsp;**release** -> The minimum time that a specific job can begin by. A job can begin no earlier than the release time \\\n",
    "&emsp;&emsp;**deadline** -> The maximum time that a job must complete by. A job can end no later than the deadline time \\\n",
    "&emsp;&emsp;**duration** -> The length (in minutes) that a task will need to complete \\\n",
    "&emsp;&emsp;**height** -> The amount of consistent power that a task will require"
   ]
  },
  {
   "cell_type": "code",
   "execution_count": 153,
   "id": "24a034b1",
   "metadata": {},
   "outputs": [],
   "source": [
    "jobs = [ \n",
    "    {'release' : 0, 'deadline' : 4, 'duration' : 2, 'height' : 1},  \n",
    "    {'release' : 1, 'deadline' : 6, 'duration' : 1, 'height' : 2},\n",
    "    {'release' : 3, 'deadline' : 8, 'duration' : 2, 'height' : 1},\n",
    "    {'release' : 4, 'deadline' : 6, 'duration' : 2, 'height' : 2},\n",
    "    {'release' : 0, 'deadline' : 5, 'duration' : 1, 'height' : 1},\n",
    "    {'release' : 3, 'deadline' : 7, 'duration' : 1, 'height' : 1},\n",
    "    {'release' : 5, 'deadline' : 7, 'duration' : 1, 'height' : 3},\n",
    "    {'release' : 0, 'deadline' : 8, 'duration' : 1, 'height' : 2},\n",
    "]\n",
    "\n",
    "start_time = 0\n",
    "end_time = 9\n"
   ]
  },
  {
   "cell_type": "code",
   "execution_count": 154,
   "id": "cd2e5d97",
   "metadata": {},
   "outputs": [],
   "source": [
    "# This creates j number of distinct sub-lists where j is the number of jobs\n",
    "# Each sublist contains all of the finite possible intervals during which job j could be executed\n",
    "intervals = [[] for _ in range(len(jobs))]\n",
    "for i, job in enumerate(jobs):\n",
    "    release = job['release'] - start_time\n",
    "    deadline = job['deadline'] - start_time\n",
    "    duration = job['duration']\n",
    "    num = release\n",
    "\n",
    "    while (num + duration <= deadline):\n",
    "        intervals[i].append((num, num + duration))\n",
    "        num += 1\n",
    "\n",
    "# This establishes the height of each job\n",
    "# This can be accessed later during the execution of the linear program\n",
    "height = [job['height'] for job in jobs]\n",
    "\n",
    "# This represents each distinct time step\n",
    "# It could be easily replaced with a set integer representing the number of time steps\n",
    "# In a certain period\n",
    "num_time_steps = end_time - start_time\n",
    "\n",
    "# This list will represent the value of the resource curve at each distinct time step\n",
    "# However, for now, it will be left 0 for all time steps for the purposes of debugging\n",
    "# resources = [0 for _ in range(num_time_steps)]\n",
    "resources = [0, 2, 3, 2, 4, 4, 3, 1, 1]"
   ]
  },
  {
   "cell_type": "markdown",
   "id": "499776e5",
   "metadata": {},
   "source": [
    "This creates a list of objects with the form {'name': x_i_j, value: ?} where each name is a distinct time interval for a distinct job. These will represent all of the decision variables for the ILP.\n",
    "\\\n",
    "\\\n",
    "Specifically, this is saying that decision variable x_i_j is the ith possible interval for job j where the value is the actual interval of time steps. This is stored here so we don't have to repeatedly query the intervals list"
   ]
  },
  {
   "cell_type": "code",
   "execution_count": 155,
   "id": "8642c4c0",
   "metadata": {},
   "outputs": [],
   "source": [
    "decision_variables = []\n",
    "for j, interval_set in enumerate(intervals):\n",
    "    for i, interval in enumerate(interval_set):\n",
    "        decision_variables.append({'name' : f'x_{i}_{j}', 'value': interval})\n",
    "\n",
    "# This is the name of the objective variable that we will minimize\n",
    "objective_variable = 'd'"
   ]
  },
  {
   "cell_type": "markdown",
   "id": "82e79c5b",
   "metadata": {},
   "source": [
    "# Solve the ILP\n",
    "Set up the necessary equations and constraints in order to solve the ILP problem"
   ]
  },
  {
   "cell_type": "code",
   "execution_count": 156,
   "id": "a1983184",
   "metadata": {},
   "outputs": [
    {
     "data": {
      "text/plain": [
       "range(0, 33)"
      ]
     },
     "execution_count": 156,
     "metadata": {},
     "output_type": "execute_result"
    }
   ],
   "source": [
    "# Create the cplex problem\n",
    "problem = cplex.Cplex()\n",
    "problem.set_problem_type(cplex.Cplex.problem_type.LP)\n",
    "problem.set_results_stream(None)\n",
    "\n",
    "# Maximize objective\n",
    "problem.objective.set_sense(problem.objective.sense.minimize)\n",
    "\n",
    "# This retrieves the names of all of the decision variables \n",
    "names = [variable['name'] for variable in decision_variables] + [objective_variable]\n",
    "\n",
    "# these are the other parameters needed to form the basis of the linear programming problem\n",
    "obj = [0 for _ in range(len(decision_variables))] + [1]# only minimizing d\n",
    "lb = [0 for _ in range(len(decision_variables))] + [0]\n",
    "ub = [1 for _ in range(len(decision_variables)) ] + [sum(height)]\n",
    "\n",
    "# Establish the problem\n",
    "types = [problem.variables.type.integer] * (len(decision_variables)) + [problem.variables.type.continuous]\n",
    "problem.variables.add(obj=obj, lb=lb, ub=ub, types=types, names=names)"
   ]
  },
  {
   "cell_type": "markdown",
   "id": "58230921",
   "metadata": {},
   "source": [
    "This will generate the first set of constraints\n",
    "\n",
    "This for loop adds the constraints that make it so that a job can run during only one interval. So for each job, aggregate all of the decision variables that correspond to each possible execution interval for that job. Then specify that they all of those decision variables can only add up to one  "
   ]
  },
  {
   "cell_type": "code",
   "execution_count": 157,
   "id": "aa0cecdd",
   "metadata": {},
   "outputs": [],
   "source": [
    "curr_index = 0\n",
    "for i, interval in enumerate(intervals):\n",
    "    if i == 0:\n",
    "        variables = decision_variables[i : i + len(interval)]\n",
    "        variables = [v['name'] for v in variables]\n",
    "        curr_index += len(interval)\n",
    "    elif i > 0:\n",
    "        variables = decision_variables[curr_index : curr_index + (len(interval))]\n",
    "        variables = [v['name'] for v in variables]\n",
    "        curr_index += len(interval)\n",
    "    \n",
    "    # The coefficient of each decision variable is one\n",
    "    constraints = [1 for _ in range(len(variables))]\n",
    "\n",
    "    # This is saying that the sum of each of the decision variabels can only equal one\n",
    "    problem.linear_constraints.add(\n",
    "        lin_expr=[ [ variables, constraints ] ],\n",
    "        senses=['E'],\n",
    "        rhs=[1]\n",
    "    )"
   ]
  },
  {
   "cell_type": "markdown",
   "id": "5039e3f9",
   "metadata": {},
   "source": [
    "This generates the second set of constraints \n",
    "\\\n",
    "\\\n",
    "It aggregates all of the desicion variables that correspond to intervals that could possibly be running during that time step. /\n",
    "It then aggregates the heights corresponding to the jobs that each decision variable represents. \n",
    "It multiplies those heights by the decision variables. However, the constrain ensures that the total sum is less than the max height d"
   ]
  },
  {
   "cell_type": "code",
   "execution_count": 158,
   "id": "2cb8b097",
   "metadata": {},
   "outputs": [],
   "source": [
    "for i in range(num_time_steps):\n",
    "    use_variables = []\n",
    "    use_height = []\n",
    "\n",
    "    for variable in decision_variables:\n",
    "        \n",
    "        # Check the interval times of the corresponding variable\n",
    "        # Then check if the current timestep falls within that interval\n",
    "        job_interval_start, job_interval_end = variable['value'][0] - start_time, variable['value'][1] - start_time\n",
    "\n",
    "        # if i >= job_interval_start and i <= job_interval_end: #COME BACK TO THIS\n",
    "        if job_interval_start <= i < job_interval_end:\n",
    "            job_id = int(variable['name'].split('_')[-1])\n",
    "\n",
    "            use_height.append(height[job_id])\n",
    "            use_variables.append(variable['name'])\n",
    "\n",
    "    # Add d to the decision variables \n",
    "    use_variables.append('d')\n",
    "    use_height.append(-1)\n",
    "\n",
    "    # print(use_variables, use_height)\n",
    "\n",
    "    # Add the linear constraint to the problem\n",
    "    problem.linear_constraints.add(\n",
    "        lin_expr=[ [ use_variables, use_height ] ],\n",
    "        senses=['L'],\n",
    "        rhs=[resources[i]]\n",
    "    )"
   ]
  },
  {
   "cell_type": "markdown",
   "id": "10e359ee",
   "metadata": {},
   "source": [
    "# Solve the ILP problem\n",
    "\n",
    "Use CPLEX to solve the formulated ILP problem and then use post processing to extract the intervals each job will run in."
   ]
  },
  {
   "cell_type": "code",
   "execution_count": 159,
   "id": "ee419607",
   "metadata": {},
   "outputs": [
    {
     "name": "stdout",
     "output_type": "stream",
     "text": [
      "Status: integer optimal solution\n",
      "Objective value: 0.0\n"
     ]
    }
   ],
   "source": [
    "problem.solve()\n",
    "\n",
    "# --- Output solution ---\n",
    "solution = problem.solution\n",
    "print(\"Status:\", solution.get_status_string())\n",
    "print(\"Objective value:\", solution.get_objective_value())\n",
    "\n",
    "# for name in names:\n",
    "#     val = solution.get_values(name)\n",
    "\n",
    "#     if val == 1 and name != 'd':\n",
    "\n",
    "#         job_id = int(name.split('_')[-1])\n",
    "#         interval_id = int(name.split('_')[1])\n",
    "#         print(f\"Job {job_id} interval: {intervals[job_id][interval_id]}\")"
   ]
  },
  {
   "cell_type": "markdown",
   "id": "7fb8fd48",
   "metadata": {},
   "source": [
    "# Plot the Jobs\n",
    "\n",
    "Use Matplotlib to plot the jobs on a curve"
   ]
  },
  {
   "cell_type": "code",
   "execution_count": 160,
   "id": "f0af5446",
   "metadata": {},
   "outputs": [
    {
     "data": {
      "image/png": "[encoded data removed]",
      "text/plain": [
       "<Figure size 640x480 with 1 Axes>"
      ]
     },
     "metadata": {},
     "output_type": "display_data"
    }
   ],
   "source": [
    "final_heights = [0 for _ in range(num_time_steps)]\n",
    "for name in names:\n",
    "    val = solution.get_values(name)\n",
    "\n",
    "    if val == 1 and name != 'd':\n",
    "        job_id = int(name.split('_')[-1])\n",
    "        interval_id = int(name.split('_')[1])\n",
    "        interval = intervals[job_id][interval_id]\n",
    "    \n",
    "        for i in range(interval[0], interval[1]):\n",
    "            final_heights[i] += height[job_id]\n",
    "\n",
    "\n",
    "job_graph_xvalues = np.array([i for i in range(num_time_steps)])\n",
    "job_graph_yvalues = np.array(final_heights)\n",
    "\n",
    "plt.bar(job_graph_xvalues, job_graph_yvalues, label=\"jobs\", width=0.5)\n",
    "plt.plot(job_graph_xvalues, resources, label='resources', color='orange')\n",
    "\n",
    "plt.xlabel(\"Time\")\n",
    "plt.ylabel(\"Power Units\")\n",
    "\n",
    "plt.show()"
   ]
  }
 ],
 "metadata": {
  "kernelspec": {
   "display_name": "Python 3",
   "language": "python",
   "name": "python3"
  },
  "language_info": {
   "codemirror_mode": {
    "name": "ipython",
    "version": 3
   },
   "file_extension": ".py",
   "mimetype": "text/x-python",
   "name": "python",
   "nbconvert_exporter": "python",
   "pygments_lexer": "ipython3",
   "version": "3.10.12"
  }
 },
 "nbformat": 4,
 "nbformat_minor": 5
}
