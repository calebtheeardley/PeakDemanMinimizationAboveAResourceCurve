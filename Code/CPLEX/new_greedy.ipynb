{
 "cells": [
  {
   "cell_type": "markdown",
   "id": "7be3aaf1",
   "metadata": {},
   "source": [
    "- Import Packages"
   ]
  },
  {
   "cell_type": "code",
   "execution_count": 175,
   "id": "f88fa077",
   "metadata": {},
   "outputs": [],
   "source": [
    "import random\n",
    "import json\n",
    "import matplotlib.pyplot as plt\n",
    "import numpy as np"
   ]
  },
  {
   "cell_type": "markdown",
   "id": "ad3e72cb",
   "metadata": {},
   "source": [
    "- Load Dataset"
   ]
  },
  {
   "cell_type": "code",
   "execution_count": 176,
   "id": "5c08ca45",
   "metadata": {},
   "outputs": [],
   "source": [
    "path = r\"C:\\Users\\moaxs\\Desktop\\REU 2025\\PDM Project\\Code\\Greedy Model\\job_data.json\"\n",
    "with open(path, 'r') as file: \n",
    "    data = json.load(file)"
   ]
  },
  {
   "cell_type": "markdown",
   "id": "fcc4e840",
   "metadata": {},
   "source": [
    "- Simple Parameters"
   ]
  },
  {
   "cell_type": "code",
   "execution_count": 177,
   "id": "375c6224",
   "metadata": {},
   "outputs": [],
   "source": [
    "sample_size = 500\n",
    "start_time = 0\n",
    "end_time = 1440\n",
    "max_length = 200"
   ]
  },
  {
   "cell_type": "markdown",
   "id": "93cae2a8",
   "metadata": {},
   "source": [
    "- Greedy Jobs"
   ]
  },
  {
   "cell_type": "code",
   "execution_count": 178,
   "id": "009eb0ac",
   "metadata": {},
   "outputs": [],
   "source": [
    "# Take a random sample of jobs\n",
    "jobs_array = data['jobs']\n",
    "random.shuffle (jobs_array)\n",
    "\n",
    "# Make a flexibility statistic, create list of increasing order\n",
    "for job in jobs_array: \n",
    "    job ['flexibility'] = job['deadline'] - job['release'] - job['length']\n",
    "\n",
    "flexible_array = sorted(jobs_array, key=lambda job: job['flexibility'])\n",
    "\n",
    "# List is same length of sample size\n",
    "flexible = []\n",
    "\n",
    "i = 0\n",
    "curr_index = 0\n",
    "while (i < sample_size) and curr_index < len(flexible_array):\n",
    "    rj = flexible_array [curr_index]['release']\n",
    "    dj = flexible_array [curr_index]['deadline']\n",
    "    lj = flexible_array [curr_index]['length']\n",
    "    fj = flexible_array [curr_index]['flexibility']\n",
    "    if rj >= start_time and dj <= end_time and lj <= max_length:\n",
    "        flexible_id = {'flexible_id' : i}\n",
    "        flexible_object = {**flexible_id, **flexible_array[curr_index]}\n",
    "        flexible.append(flexible_object)\n",
    "        \n",
    "        i += 1\n",
    "    \n",
    "    curr_index += 1\n",
    "\n",
    "\n",
    "# List of jobs not ordered by flexibility for reference\n",
    "jobs = []\n",
    "\n",
    "i = 0\n",
    "curr_index = 0\n",
    "while (i < sample_size) and curr_index < len(jobs_array):\n",
    "    rj = jobs_array [curr_index]['release']\n",
    "    dj = jobs_array [curr_index]['deadline']\n",
    "    lj = jobs_array [curr_index]['length']\n",
    "    fj = jobs_array [curr_index]['flexibility']\n",
    "    if rj >= start_time and dj <= end_time and lj <= max_length:\n",
    "        job_id = {'job_id' : i}\n",
    "        job_object = {**job_id, **jobs_array[curr_index]}\n",
    "        jobs.append(job_object)\n",
    "        \n",
    "        i += 1\n",
    "    \n",
    "    curr_index += 1"
   ]
  },
  {
   "cell_type": "code",
   "execution_count": 179,
   "id": "89d169ee",
   "metadata": {},
   "outputs": [
    {
     "name": "stdout",
     "output_type": "stream",
     "text": [
      "[{'flexible_id': 0, 'release': 862, 'deadline': 880, 'length': 16, 'height': 48.96, 'flexibility': 2}, {'flexible_id': 1, 'release': 841, 'deadline': 874, 'length': 31, 'height': 298.09, 'flexibility': 2}, {'flexible_id': 2, 'release': 887, 'deadline': 1032, 'length': 143, 'height': 89.77, 'flexibility': 2}, {'flexible_id': 3, 'release': 846, 'deadline': 866, 'length': 17, 'height': 55.9, 'flexibility': 3}, {'flexible_id': 4, 'release': 534, 'deadline': 553, 'length': 16, 'height': 735.7, 'flexibility': 3}, {'flexible_id': 5, 'release': 844, 'deadline': 867, 'length': 19, 'height': 44.45, 'flexibility': 4}, {'flexible_id': 6, 'release': 862, 'deadline': 869, 'length': 3, 'height': 15.27, 'flexibility': 4}, {'flexible_id': 7, 'release': 845, 'deadline': 865, 'length': 16, 'height': 47.92, 'flexibility': 4}, {'flexible_id': 8, 'release': 665, 'deadline': 770, 'length': 101, 'height': 1187.15, 'flexibility': 4}, {'flexible_id': 9, 'release': 850, 'deadline': 863, 'length': 9, 'height': 41.54, 'flexibility': 4}]\n",
      "[{'job_id': 0, 'release': 900, 'deadline': 1035, 'length': 27, 'height': 1006.65, 'flexibility': 108}, {'job_id': 1, 'release': 954, 'deadline': 1011, 'length': 8, 'height': 337.76, 'flexibility': 49}, {'job_id': 2, 'release': 592, 'deadline': 773, 'length': 96, 'height': 98.34, 'flexibility': 85}, {'job_id': 3, 'release': 1079, 'deadline': 1128, 'length': 30, 'height': 2875.22, 'flexibility': 19}, {'job_id': 4, 'release': 666, 'deadline': 795, 'length': 5, 'height': 236.36, 'flexibility': 124}, {'job_id': 5, 'release': 918, 'deadline': 1057, 'length': 73, 'height': 908.76, 'flexibility': 66}, {'job_id': 6, 'release': 648, 'deadline': 766, 'length': 5, 'height': 283.01, 'flexibility': 113}, {'job_id': 7, 'release': 812, 'deadline': 881, 'length': 4, 'height': 440.28, 'flexibility': 65}, {'job_id': 8, 'release': 573, 'deadline': 729, 'length': 87, 'height': 940.69, 'flexibility': 69}, {'job_id': 9, 'release': 945, 'deadline': 1026, 'length': 7, 'height': 343.97, 'flexibility': 74}]\n"
     ]
    }
   ],
   "source": [
    "print (flexible[:10])\n",
    "\n",
    "print (jobs[:10])"
   ]
  },
  {
   "cell_type": "markdown",
   "id": "c772fbd8",
   "metadata": {},
   "source": [
    "- Resource Curve"
   ]
  },
  {
   "cell_type": "code",
   "execution_count": 180,
   "id": "3754d36c",
   "metadata": {},
   "outputs": [],
   "source": [
    "# Instantiate the resource curve\n",
    "path = r\"C:\\Users\\moaxs\\Desktop\\REU 2025\\PDM Project\\Code\\Greedy Model\\solar_data.json\"\n",
    "with open(path, 'r') as file: \n",
    "    data = json.load(file)\n",
    "\n",
    "wind_energy = data['series'][1]['data']\n",
    "solar_energy = data['series'][2]['data']\n",
    "hydro_energy = data['series'][3]['data']\n",
    "\n",
    "# Have 165 hours and you want minute by minute resolution. Therefore the total length of this list needs to be 165 * 60 in length\n",
    "# The first 60 values of the list need to equal 0, the next need to equal 1. Therefore, i // 60\n",
    "wind_energy_7_days = [0 for _ in range(165 * 60)]\n",
    "for i in range(len(wind_energy_7_days)):\n",
    "    wind_energy_7_days[i] = wind_energy[ i // 60 ]['value']\n",
    "\n",
    "solar_energy_7_days = [0 for _ in range(165 * 60)]\n",
    "for i in range(len(solar_energy_7_days)):\n",
    "    solar_energy_7_days[i] = solar_energy[ i // 60 ]['value']\n",
    "\n",
    "hydro_energy_7_days = [0 for _ in range(165 * 60)]\n",
    "for i in range(len(hydro_energy_7_days)):\n",
    "    hydro_energy_7_days[i] = hydro_energy[ i // 60 ]['value']\n",
    "\n",
    "\n",
    "total = []\n",
    "for i in range(165 * 60):\n",
    "    total_sum = wind_energy_7_days[i] + solar_energy_7_days[i] + hydro_energy_7_days[i]\n",
    "    total.append(total_sum)\n",
    "\n",
    "day = 3\n",
    "resources = total[(24 * day) + start_time : (24 * day) + end_time]"
   ]
  },
  {
   "cell_type": "markdown",
   "id": "aa0b8744",
   "metadata": {},
   "source": [
    "- Find All Possible Start Times for Each Job"
   ]
  },
  {
   "cell_type": "code",
   "execution_count": null,
   "id": "15248d0a",
   "metadata": {},
   "outputs": [],
   "source": [
    "intervals = [[] for _ in range(len(flexible))]\n",
    "for i, job in enumerate(flexible):\n",
    "    # Extract the necessary information from the job object\n",
    "    release = job['release'] - start_time\n",
    "    deadline = job['deadline'] - start_time\n",
    "    duration = job['length']\n",
    "    num = release\n",
    "\n",
    "    # Add the execution intervals to the sublist\n",
    "    while (num + duration <= deadline):\n",
    "        intervals[i].append((num, num + duration))\n",
    "        num += 1\n",
    "\n",
    "# print (intervals[:5])"
   ]
  },
  {
   "cell_type": "markdown",
   "id": "38f6c974",
   "metadata": {},
   "source": [
    "- Definitions"
   ]
  },
  {
   "cell_type": "code",
   "execution_count": null,
   "id": "4e7df0d8",
   "metadata": {},
   "outputs": [],
   "source": [
    "# Iterate through the jobs and add their corresponding heights\n",
    "height = [job['height'] for job in jobs]\n",
    "\n",
    "# Specify the number of time steps \n",
    "num_time_steps = end_time - start_time"
   ]
  },
  {
   "cell_type": "markdown",
   "id": "fea6a65f",
   "metadata": {},
   "source": [
    "- Label each job and possible interval combination"
   ]
  },
  {
   "cell_type": "code",
   "execution_count": null,
   "id": "71662e71",
   "metadata": {},
   "outputs": [],
   "source": [
    "decision_variables = []\n",
    "for j, interval_set in enumerate(intervals):\n",
    "    for i, interval in enumerate(interval_set):\n",
    "        # Add the decision variable and it's corresponding interval to the list\n",
    "        decision_variables.append({'name' : f'x_{i}_{j}', 'value': interval})\n",
    "\n",
    "# This is the name of the objective variable that we will minimize\n",
    "objective_variable = 'd'\n",
    "\n",
    "#print (decision_variables[:20])\n",
    "#print(len(decision_variables))"
   ]
  },
  {
   "cell_type": "markdown",
   "id": "d097f0e9",
   "metadata": {},
   "source": [
    "- Resource curve at each time"
   ]
  },
  {
   "cell_type": "code",
   "execution_count": 187,
   "id": "9246fac1",
   "metadata": {},
   "outputs": [],
   "source": [
    "total_energy = []\n",
    "i = 0\n",
    "while i in range(num_time_steps):\n",
    "    energy_curve = wind_energy_7_days[i] + solar_energy_7_days[i] + hydro_energy_7_days[i]\n",
    "    total_energy.append(energy_curve)\n",
    "\n",
    "    i+=1  \n",
    "\n",
    "# print(total_energy[790])"
   ]
  },
  {
   "cell_type": "markdown",
   "id": "fc1b9681",
   "metadata": {},
   "source": [
    "- Find the distance between resource curve and each decision variable"
   ]
  },
  {
   "cell_type": "code",
   "execution_count": null,
   "id": "3fa085d7",
   "metadata": {},
   "outputs": [
    {
     "name": "stdout",
     "output_type": "stream",
     "text": [
      "[{'name': 'x_0_0', 'value': (862, 878), 'score': 6880.76}, {'name': 'x_1_0', 'value': (863, 879), 'score': 7162.04}, {'name': 'x_2_0', 'value': (864, 880), 'score': 6912.91}, {'name': 'x_0_1', 'value': (841, 872), 'score': 6880.76}, {'name': 'x_1_1', 'value': (842, 873), 'score': 7162.04}, {'name': 'x_2_1', 'value': (843, 874), 'score': 6912.91}, {'name': 'x_0_2', 'value': (887, 1030), 'score': 6880.76}, {'name': 'x_1_2', 'value': (888, 1031), 'score': 7162.04}, {'name': 'x_2_2', 'value': (889, 1032), 'score': 6912.91}, {'name': 'x_0_3', 'value': (846, 863), 'score': 6880.76}, {'name': 'x_1_3', 'value': (847, 864), 'score': 7162.04}, {'name': 'x_2_3', 'value': (848, 865), 'score': 6912.91}, {'name': 'x_3_3', 'value': (849, 866), 'score': 7121.23}, {'name': 'x_0_4', 'value': (534, 550), 'score': 6880.76}, {'name': 'x_1_4', 'value': (535, 551), 'score': 7162.04}, {'name': 'x_2_4', 'value': (536, 552), 'score': 6912.91}, {'name': 'x_3_4', 'value': (537, 553), 'score': 7121.23}, {'name': 'x_0_5', 'value': (844, 863), 'score': 6880.76}, {'name': 'x_1_5', 'value': (845, 864), 'score': 7162.04}, {'name': 'x_2_5', 'value': (846, 865), 'score': 6912.91}]\n",
      "6439\n"
     ]
    }
   ],
   "source": [
    "height_score = []\n",
    "for j, interval_set in enumerate(intervals):\n",
    "    for i, interval in enumerate(interval_set):\n",
    "        resources = total_energy[i]\n",
    "        height = flexible_array[i]['height']\n",
    "        score = resources - height\n",
    "        height_score.append({'name' : f'x_{i}_{j}', 'value': interval, 'score': score})\n",
    "\n",
    "#print (height_score[:20])\n",
    "#print (len(height_score))"
   ]
  },
  {
   "cell_type": "markdown",
   "id": "e417cf58",
   "metadata": {},
   "source": [
    "- Find best interval for each job"
   ]
  },
  {
   "cell_type": "code",
   "execution_count": null,
   "id": "40811789",
   "metadata": {},
   "outputs": [
    {
     "name": "stdout",
     "output_type": "stream",
     "text": [
      "[{'name': 'x_7_40', 'value': (673, 688), 'score': 7195.73}, {'name': 'x_7_41', 'value': (686, 768), 'score': 7195.73}, {'name': 'x_7_42', 'value': (714, 763), 'score': 7195.73}, {'name': 'x_7_43', 'value': (531, 546), 'score': 7195.73}, {'name': 'x_7_44', 'value': (862, 877), 'score': 7195.73}, {'name': 'x_7_45', 'value': (841, 860), 'score': 7195.73}, {'name': 'x_7_46', 'value': (858, 888), 'score': 7195.73}, {'name': 'x_7_47', 'value': (582, 598), 'score': 7195.73}, {'name': 'x_7_48', 'value': (530, 684), 'score': 7195.73}, {'name': 'x_7_49', 'value': (519, 636), 'score': 7195.73}, {'name': 'x_7_50', 'value': (596, 681), 'score': 7195.73}, {'name': 'x_7_51', 'value': (678, 719), 'score': 7195.73}, {'name': 'x_7_52', 'value': (853, 869), 'score': 7195.73}, {'name': 'x_7_53', 'value': (525, 670), 'score': 7195.73}, {'name': 'x_7_54', 'value': (686, 786), 'score': 7195.73}, {'name': 'x_7_55', 'value': (694, 819), 'score': 7195.73}, {'name': 'x_7_56', 'value': (673, 727), 'score': 7195.73}, {'name': 'x_7_57', 'value': (638, 654), 'score': 7195.73}, {'name': 'x_7_58', 'value': (607, 671), 'score': 7195.73}, {'name': 'x_7_59', 'value': (669, 704), 'score': 7195.73}]\n"
     ]
    }
   ],
   "source": [
    "from collections import defaultdict\n",
    "\n",
    "grouped = defaultdict(list)\n",
    "for entry in height_score:\n",
    "    job_idx = int(entry['name'].split('_')[-1])\n",
    "    grouped[job_idx].append(entry)\n",
    "\n",
    "selected_intervals = []\n",
    "for job_idx in sorted(grouped.keys()):\n",
    "    # Select the interval with the highest score for each job\n",
    "    best_interval = max(grouped[job_idx], key=lambda x: x['score'])\n",
    "    selected_intervals.append(best_interval)\n",
    "\n",
    "# Now, selected_intervals contains exactly one interval per job\n",
    "#print(selected_intervals[40:60])"
   ]
  },
  {
   "cell_type": "markdown",
   "id": "2b812f93",
   "metadata": {},
   "source": [
    "- Final Heights for Each Job Interval"
   ]
  },
  {
   "cell_type": "code",
   "execution_count": 190,
   "id": "beb669dd",
   "metadata": {},
   "outputs": [
    {
     "name": "stdout",
     "output_type": "stream",
     "text": [
      "[{'name': 'x_1_0', 'interval': (863, 879), 'job_height': 1006.65, 'resource': 7435}, {'name': 'x_1_1', 'interval': (842, 873), 'job_height': 337.76, 'resource': 7435}, {'name': 'x_1_2', 'interval': (888, 1031), 'job_height': 98.34, 'resource': 7435}, {'name': 'x_1_3', 'interval': (847, 864), 'job_height': 2875.22, 'resource': 7435}, {'name': 'x_1_4', 'interval': (535, 551), 'job_height': 236.36, 'resource': 6406}, {'name': 'x_1_5', 'interval': (845, 864), 'job_height': 908.76, 'resource': 7435}, {'name': 'x_1_6', 'interval': (863, 866), 'job_height': 283.01, 'resource': 7435}, {'name': 'x_1_7', 'interval': (846, 862), 'job_height': 440.28, 'resource': 7435}, {'name': 'x_1_8', 'interval': (666, 767), 'job_height': 940.69, 'resource': 6051}, {'name': 'x_1_9', 'interval': (851, 860), 'job_height': 343.97, 'resource': 7435}, {'name': 'x_1_10', 'interval': (845, 850), 'job_height': 122.66, 'resource': 7435}, {'name': 'x_1_11', 'interval': (847, 878), 'job_height': 330.69, 'resource': 7435}, {'name': 'x_1_12', 'interval': (689, 704), 'job_height': 136.56, 'resource': 6051}, {'name': 'x_1_13', 'interval': (585, 717), 'job_height': 105.37, 'resource': 5699}, {'name': 'x_1_14', 'interval': (909, 991), 'job_height': 345.35, 'resource': 7368}, {'name': 'x_1_15', 'interval': (850, 878), 'job_height': 429.13, 'resource': 7435}, {'name': 'x_1_16', 'interval': (589, 689), 'job_height': 256.43, 'resource': 5699}, {'name': 'x_1_17', 'interval': (810, 953), 'job_height': 85.15, 'resource': 7138}, {'name': 'x_6_18', 'interval': (847, 928), 'job_height': 311.56, 'resource': 7435}, {'name': 'x_6_19', 'interval': (860, 873), 'job_height': 332.12, 'resource': 7435}]\n",
      "500\n"
     ]
    }
   ],
   "source": [
    "final_heights = []\n",
    "\n",
    "for idx, interval_info in enumerate(selected_intervals):\n",
    "    # interval_info is a dict: {'name': ..., 'value': (start, end), 'score': ...}\n",
    "    interval = interval_info['value']\n",
    "    start_time_idx = interval[0]\n",
    "    # Get the job index from the name (last part after '_')\n",
    "    job_idx = int(interval_info['name'].split('_')[-1])\n",
    "    # Get the job's height\n",
    "    job_height = jobs[job_idx]['height']\n",
    "    # Get the resource at the start of the interval\n",
    "    resource_at_start = total_energy[start_time_idx]\n",
    "    final_heights.append({\n",
    "        'name': interval_info['name'],\n",
    "        'interval': interval,\n",
    "        'job_height': job_height,\n",
    "        'resource': resource_at_start\n",
    "    })\n",
    "\n",
    "# Add the job's height to each entry in final_heights for each job in selected_intervals\n",
    "for entry in final_heights:\n",
    "    job_idx = int(entry['name'].split('_')[-1])\n",
    "    entry['job_height'] = jobs[job_idx]['height']\n",
    "\n",
    "print(final_heights[:20])\n",
    "print (len(final_heights))"
   ]
  },
  {
   "cell_type": "markdown",
   "id": "a100675c",
   "metadata": {},
   "source": [
    "- Plot jobs"
   ]
  },
  {
   "cell_type": "code",
   "execution_count": 191,
   "id": "9e469c82",
   "metadata": {},
   "outputs": [
    {
     "data": {
      "image/png": "[encoded data removed]",
      "text/plain": [
       "<Figure size 640x480 with 1 Axes>"
      ]
     },
     "metadata": {},
     "output_type": "display_data"
    }
   ],
   "source": [
    "job_graph_xvalues = np.array([i for i in range(start_time, end_time)])\n",
    "\n",
    "# Create an array for job heights at each time step\n",
    "job_graph_yvalues = np.zeros(end_time - start_time)\n",
    "\n",
    "# Fill in the job heights for each scheduled interval\n",
    "for entry in final_heights:\n",
    "\tstart, end = entry['interval']\n",
    "\theight = entry['job_height']\n",
    "\t# Add job height to each time slot the job occupies\n",
    "\tjob_graph_yvalues[start:end] += height\n",
    "\n",
    "plt.bar(job_graph_xvalues, job_graph_yvalues, label=\"greedy jobs\", width=0.5)\n",
    "plt.plot(job_graph_xvalues, total_energy, label='resources', color='orange')\n",
    "\n",
    "plt.xlabel(\"Time\")\n",
    "plt.ylabel(\"Power Units\")\n",
    "plt.legend()\n",
    "plt.show()"
   ]
  }
 ],
 "metadata": {
  "kernelspec": {
   "display_name": "cplex-new_env",
   "language": "python",
   "name": "python3"
  },
  "language_info": {
   "codemirror_mode": {
    "name": "ipython",
    "version": 3
   },
   "file_extension": ".py",
   "mimetype": "text/x-python",
   "name": "python",
   "nbconvert_exporter": "python",
   "pygments_lexer": "ipython3",
   "version": "3.10.16"
  }
 },
 "nbformat": 4,
 "nbformat_minor": 5
}
