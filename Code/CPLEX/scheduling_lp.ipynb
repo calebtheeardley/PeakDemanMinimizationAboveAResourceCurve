{
 "cells": [
  {
   "cell_type": "markdown",
   "id": "158c01e0",
   "metadata": {},
   "source": [
    "# Calculate Job Power Schedules with LP\n",
    "\n",
    "This program is designed to take in n number of distinct power scheduling jobs and determine their ideal ordering in to minimize the peak amount of power demand above a provided resource curve. \n",
    "\\\n",
    "This is a relaxed ILP problem. Therefore, it uses typical LP to solve the problem in polynomial time and then probability to estimate the optimal schedule of jobs.\n"
   ]
  },
  {
   "cell_type": "code",
   "execution_count": 729,
   "id": "3ef52f12",
   "metadata": {},
   "outputs": [],
   "source": [
    "import cplex\n",
    "import random\n",
    "import json\n",
    "import matplotlib.pyplot as plt\n",
    "import numpy as np"
   ]
  },
  {
   "cell_type": "markdown",
   "id": "d005f272",
   "metadata": {},
   "source": [
    "# Generate Jobs and Other Variables\n",
    "We need to generate the jobs, decision variables and extract other information that will be necessary for the LP to run"
   ]
  },
  {
   "cell_type": "markdown",
   "id": "34433157",
   "metadata": {},
   "source": [
    "**Jobs** -> The power requiring tasks upon which this problem is built. Each job will have the following format:\n",
    "\\\n",
    "\\\n",
    "&emsp;&emsp;**release** -> The minimum time that a specific job can begin by. A job can begin no earlier than the release time \\\n",
    "&emsp;&emsp;**deadline** -> The maximum time that a job must complete by. A job can end no later than the deadline time \\\n",
    "&emsp;&emsp;**duration** -> The length (in minutes) that a task will need to complete \\\n",
    "&emsp;&emsp;**height** -> The amount of consistent power that a task will require"
   ]
  },
  {
   "cell_type": "code",
   "execution_count": 730,
   "id": "efad1f5f",
   "metadata": {},
   "outputs": [],
   "source": [
    "start_time = 3\n",
    "end_time = 9\n",
    "\n",
    "jobs = [{'release' : 3, 'deadline' : 8, 'length' : 1, 'height' : 2} for _ in range(8)]\n",
    "\n",
    "# # This is The list of job objects that will be scheduled\n",
    "# # They each have a release, deadline, duration and height\n",
    "# path = '../../Data/job_data.json'\n",
    "# with open(path, 'r') as file:\n",
    "#     data = json.load(file)\n",
    "\n",
    "# start_time = 400\n",
    "# end_time = 1000\n",
    "# max_length = 200\n",
    "# batch_size = 100\n",
    "\n",
    "# # Randomly shuffle the jobs so that there is variation between trials\n",
    "# jobs_array = data['jobs']\n",
    "# random.shuffle(jobs_array)\n",
    "\n",
    "# jobs = []\n",
    "\n",
    "# # Iterate through the job objects and create an array of objects that fall within the specified time window\n",
    "# i = 0\n",
    "# curr_index = 0\n",
    "# while (i < batch_size):\n",
    "#     aj = jobs_array[curr_index]['release']\n",
    "#     dj = jobs_array[curr_index]['deadline']\n",
    "#     lj = jobs_array[curr_index]['length']\n",
    "\n",
    "#     # Check if the specific job lies within the correct window\n",
    "#     # The funky syntax is used to put the job id at the very front of the dictionary\n",
    "#     if aj >= start_time and dj <= end_time and lj <= max_length:\n",
    "#         job_id = {'job_id' : i}\n",
    "#         job_object = {**job_id, **jobs_array[curr_index]}\n",
    "#         jobs.append(job_object)\n",
    "        \n",
    "#         i += 1\n",
    "    \n",
    "#     curr_index += 1\n"
   ]
  },
  {
   "cell_type": "markdown",
   "id": "39a7ac5f",
   "metadata": {},
   "source": [
    "**Intervals** -> The overall intervals list is composed of exactly J sublists, where J = the number of total jobs\n",
    "\\\n",
    "\\\n",
    "&emsp;&emsp;- Each entry within a sublist is a two integer tuple representing a possible start and end execution time for the corresponding job \\\n",
    "&emsp;&emsp;- For example, the entry (3, 6) in the intervals[0] means that the first job can possibly execute between time steps 3 and 6 (where the start \\\n",
    "&emsp;&emsp;time is inclusive and the end time is exclusive)"
   ]
  },
  {
   "cell_type": "code",
   "execution_count": 731,
   "id": "4bf0406a",
   "metadata": {},
   "outputs": [],
   "source": [
    "intervals = [[] for _ in range(len(jobs))]\n",
    "for i, job in enumerate(jobs):\n",
    "    # Extract the necessary information from the job object\n",
    "    release = job['release'] - start_time\n",
    "    deadline = job['deadline'] - start_time\n",
    "    duration = job['length']\n",
    "    num = release\n",
    "\n",
    "    # Add the execution intervals to the sublist\n",
    "    while (num + duration <= deadline):\n",
    "        intervals[i].append((num, num + duration))\n",
    "        num += 1"
   ]
  },
  {
   "cell_type": "markdown",
   "id": "4e167fb4",
   "metadata": {},
   "source": [
    "**Height** -> This is a list containing exactly J entries, where each entry contains that height of the corresponding job.\n",
    "\\\n",
    "\\\n",
    "&emsp;&emsp;- The height is another word for the amount of the given resource that a job will consistently require while it is running. \\\n",
    "&emsp;&emsp;- Therefore, height[0] = 400 means that the first job requires 400 unites of the given resource\n",
    "\\\n",
    "\\\n",
    "**Time Steps** -> This is simply the number of time steps in the time period between the specified start and end time. Each time step equates to exactly one minute\n",
    "\\\n",
    "\\\n",
    "**Resources** -> This is a list that keeps track of the amount of available resources at each time step"
   ]
  },
  {
   "cell_type": "code",
   "execution_count": 732,
   "id": "6d3351c3",
   "metadata": {},
   "outputs": [],
   "source": [
    "# Iterate through the jobs and add their corresponding heights\n",
    "height = [job['height'] for job in jobs]\n",
    "\n",
    "# Specify the number of time steps \n",
    "num_time_steps = end_time - start_time\n",
    "\n",
    "# Instantiate the resource curve\n",
    "# resources = [2000 for _ in range(200)] + [5000 for _ in range(200)] + [2000 for _ in range(200)]\n",
    "resources = [0, 2, 2, 6, 6, 0]"
   ]
  },
  {
   "cell_type": "markdown",
   "id": "45c57104",
   "metadata": {},
   "source": [
    "# Decision Variables\n",
    "**Decision variables** -> A key component of the ILP. They represent each distint execution interval for each job. They can assume any value in [0, 1]. \n",
    "\\\n",
    "\\\n",
    "&emsp;&emsp;- This code creates a list of decision variables with the form {'name': x_i_j, value: ?} where each name is a distinct time interval for a distinct job. \n",
    "\\\n",
    "&emsp;&emsp;- Specifically, this is saying that decision variable x_i_j is the ith possible interval for job j where the value is the actual interval of time steps. \n",
    "\\\n",
    "&emsp;&emsp;- This is stored here so we don't have to repeatedly query the intervals list\n",
    "\\\n",
    "\\\n",
    "**Objective variable** -> Instantiate the variable that will be minimized during the problem's execution"
   ]
  },
  {
   "cell_type": "code",
   "execution_count": 733,
   "id": "d3d86b7e",
   "metadata": {},
   "outputs": [],
   "source": [
    "decision_variables = []\n",
    "for j, interval_set in enumerate(intervals):\n",
    "    for i, interval in enumerate(interval_set):\n",
    "        # Add the decision variable and it's corresponding interval to the list\n",
    "        decision_variables.append({'name' : f'x_{i}_{j}', 'value': interval})\n",
    "\n",
    "# This is the name of the objective variable that we will minimize\n",
    "objective_variable = 'd'"
   ]
  },
  {
   "cell_type": "markdown",
   "id": "729402e6",
   "metadata": {},
   "source": [
    "# Create the ILP\n",
    "Create an ILP problem with CPLEX. We have to specify the decision variables for the problem. And then we must specify their respective upper bounds and lower bounds.\n",
    "\\\n",
    "\\\n",
    "Finally we have to set up the objective function. In this case, the objective function will be to minimize a variable named 'd'. Where d is initially set to the highest point the job schedule curve could possibly be, which is the total sum of the 'heights' list."
   ]
  },
  {
   "cell_type": "code",
   "execution_count": 734,
   "id": "6950170b",
   "metadata": {},
   "outputs": [
    {
     "data": {
      "text/plain": [
       "range(0, 41)"
      ]
     },
     "execution_count": 734,
     "metadata": {},
     "output_type": "execute_result"
    }
   ],
   "source": [
    "# Create the cplex problem\n",
    "problem = cplex.Cplex()\n",
    "problem.set_problem_type(cplex.Cplex.problem_type.LP)\n",
    "problem.set_results_stream(None)\n",
    "\n",
    "# Maximize objective\n",
    "problem.objective.set_sense(problem.objective.sense.minimize)\n",
    "\n",
    "# This retrieves the names of all of the decision variables \n",
    "names = [variable['name'] for variable in decision_variables] + [objective_variable]\n",
    "\n",
    "# these are the other parameters needed to form the basis of the linear programming problem\n",
    "obj = [0 for _ in range(len(decision_variables))] + [1]# only minimizing d\n",
    "lb = [0 for _ in range(len(decision_variables))] + [0]\n",
    "ub = [1 for _ in range(len(decision_variables)) ] + [sum(height)]\n",
    "\n",
    "# Establish the problem\n",
    "types = [problem.variables.type.continuous] * (len(decision_variables)) + [problem.variables.type.continuous]\n",
    "problem.variables.add(obj=obj, lb=lb, ub=ub, types=types, names=names)"
   ]
  },
  {
   "cell_type": "markdown",
   "id": "e1a9dcef",
   "metadata": {},
   "source": [
    "# Constraints\n",
    "This will generate the first set of constraints\n",
    "\n",
    "This for loop adds the constraints that make it so that a job can run during only one interval. So for each job, aggregate all of the decision variables that correspond to each possible execution interval for that job. Then specify that they all of those decision variables can only add up to one  "
   ]
  },
  {
   "cell_type": "code",
   "execution_count": 735,
   "id": "490b6de5",
   "metadata": {},
   "outputs": [],
   "source": [
    "curr_index = 0\n",
    "for interval in intervals:\n",
    "    # Aggregate all the decision variables that belong to one job\n",
    "    variables = decision_variables[curr_index : curr_index + (len(interval))]\n",
    "    variables = [v['name'] for v in variables]\n",
    "    curr_index += len(interval)\n",
    "    \n",
    "    # The coefficient of each decision variable is one\n",
    "    constraints = [1 for _ in range(len(variables))]\n",
    "\n",
    "    # This is saying that the sum of each of the decision variabels can only equal one\n",
    "    problem.linear_constraints.add(\n",
    "        lin_expr=[ [ variables, constraints ] ],\n",
    "        senses=['E'],\n",
    "        rhs=[1]\n",
    "    )"
   ]
  },
  {
   "cell_type": "markdown",
   "id": "3f99e3db",
   "metadata": {},
   "source": [
    "This generates the second set of constraints \n",
    "\\\n",
    "\\\n",
    "It aggregates all of the desicion variables that correspond to intervals that could possibly be running during that time step. /\n",
    "It then aggregates the heights corresponding to the jobs that each decision variable represents. \n",
    "It multiplies those heights by the decision variables. However, the constrain ensures that the total sum is less than the max height d"
   ]
  },
  {
   "cell_type": "code",
   "execution_count": 736,
   "id": "34140aa2",
   "metadata": {},
   "outputs": [],
   "source": [
    "for i in range(num_time_steps):\n",
    "    use_variables = []\n",
    "    use_height = []\n",
    "\n",
    "    for variable in decision_variables:\n",
    "        \n",
    "        # Check the interval times of the corresponding variable\n",
    "        # Then check if the current timestep falls within that interval\n",
    "        job_interval_start, job_interval_end = variable['value'][0], variable['value'][1]\n",
    "\n",
    "        # if i >= job_interval_start and i < job_interval_end: #COME BACK TO THIS\n",
    "        if job_interval_start <= i < job_interval_end:\n",
    "            job_id = int(variable['name'].split('_')[-1])\n",
    "\n",
    "            use_height.append(height[job_id])\n",
    "            use_variables.append(variable['name'])\n",
    "\n",
    "    # Add d to the decision variables \n",
    "    use_variables.append('d')\n",
    "    use_height.append(-1)\n",
    "\n",
    "    # print(use_variables, use_height)\n",
    "\n",
    "    # Add the linear constraint to the problem\n",
    "    problem.linear_constraints.add(\n",
    "        lin_expr=[ [ use_variables, use_height ] ],\n",
    "        senses=['L'],\n",
    "        rhs=[resources[i]]\n",
    "    )\n"
   ]
  },
  {
   "cell_type": "markdown",
   "id": "0b193c1e",
   "metadata": {},
   "source": [
    "# Solve the ILP problem\n",
    "\n",
    "Use CPLEX to solve the formulated ILP problem and then use post processing to extract the intervals each job will run in."
   ]
  },
  {
   "cell_type": "code",
   "execution_count": 737,
   "id": "98bab5f7",
   "metadata": {},
   "outputs": [],
   "source": [
    "problem.solve()\n",
    "solution = problem.solution"
   ]
  },
  {
   "cell_type": "markdown",
   "id": "7c9cc606",
   "metadata": {},
   "source": [
    "# Choose the job intervals\n",
    "Each decision variable for a specific job will have a value between 0-1. However, we need to choose exactly one interval for a specific job to run in.\n",
    "\\\n",
    "\\\n",
    "Therefore, we use the values of the decision variables as a probability that that specific interval will run. This means that if a decision variable has a higher value, it's corresponding interval has a higher likelihood of being chosen for the job. "
   ]
  },
  {
   "cell_type": "code",
   "execution_count": 738,
   "id": "0d0cd060",
   "metadata": {},
   "outputs": [],
   "source": [
    "# Loop through each of the jobs and generate a random number\n",
    "# Choose a decision variable based on the probability of the current value of the decision variables\n",
    "# Add that chosen variable to a final list so that the overall objective value can be ascertained\n",
    "final_intervals = []\n",
    "final_heights = [0 for _ in range(num_time_steps)]\n",
    "\n",
    "curr_index = 0\n",
    "# Loop through each job\n",
    "for job_id in range(len(intervals)):\n",
    "    # Generate a random number for the job to be used to select a specific interval\n",
    "    random_num = random.uniform(0, 1)\n",
    "    probability = 0\n",
    "\n",
    "    # Loop through each interval in the job and get the value corresponding to each interval (decision variable)\n",
    "    # Add the decision variable to the final interval list based on the random number \n",
    "    for i, interval in enumerate(intervals[job_id]):\n",
    "        decision_variable = decision_variables[curr_index]\n",
    "        decision_value = solution.get_values(decision_variable['name'])\n",
    "        probability += decision_value\n",
    "\n",
    "        if random_num <= probability and len(final_intervals) <= job_id:\n",
    "            final_intervals.append(decision_variable)\n",
    "        \n",
    "        curr_index += 1\n",
    "\n",
    "# Generate the height of all of the jobs over the course of all of the time steps\n",
    "# Do this by iterating through all of the selected job intervals in final_intervals and add their height values \n",
    "# to the final_heights arrays. From this we can determine the objective value of d\n",
    "# simply take the maximum from this height list\n",
    "for job_id, job in enumerate(final_intervals):\n",
    "    job_start = job['value'][0]\n",
    "    job_end = job['value'][1]\n",
    "    job_height = height[job_id]\n",
    "\n",
    "    for i in range(job_start, job_end):\n",
    "        final_heights[i] += job_height"
   ]
  },
  {
   "cell_type": "markdown",
   "id": "7c44481a",
   "metadata": {},
   "source": [
    "We calculate the objective value to be the greatest difference between the job scheduling curve and the resource curve."
   ]
  },
  {
   "cell_type": "code",
   "execution_count": 739,
   "id": "e442fb2a",
   "metadata": {},
   "outputs": [
    {
     "name": "stdout",
     "output_type": "stream",
     "text": [
      "Objective value: 0\n"
     ]
    }
   ],
   "source": [
    "objective_value = 0\n",
    "for i, heights in enumerate(final_heights):\n",
    "    if heights - resources[i] > objective_value:\n",
    "        objective_value = heights - resources[i]\n",
    "\n",
    "print(\"Objective value:\", objective_value)"
   ]
  },
  {
   "cell_type": "code",
   "execution_count": 740,
   "id": "7b39d023",
   "metadata": {},
   "outputs": [],
   "source": [
    "bad_heights = [0 for _ in range(num_time_steps)]\n",
    "for job in jobs:\n",
    "    aj = job['release'] - start_time\n",
    "    hj = job['height']\n",
    "    lj = job['length']\n",
    "\n",
    "    for i in range(aj, aj + lj):\n",
    "        bad_heights[i] += hj"
   ]
  },
  {
   "cell_type": "markdown",
   "id": "0bea8d70",
   "metadata": {},
   "source": [
    "# Plot the Jobs\n",
    "\n",
    "Use Matplotlib to plot the jobs on a curve"
   ]
  },
  {
   "cell_type": "code",
   "execution_count": 741,
   "id": "cd94854f",
   "metadata": {},
   "outputs": [
    {
     "data": {
      "image/png": "[encoded data removed]",
      "text/plain": [
       "<Figure size 640x480 with 1 Axes>"
      ]
     },
     "metadata": {},
     "output_type": "display_data"
    }
   ],
   "source": [
    "job_graph_xvalues = np.array([i for i in range(start_time, end_time)])\n",
    "\n",
    "job_graph_yvalues = np.array(final_heights)\n",
    "bad_job_graph_yvalues = np.array(bad_heights)\n",
    "resources_graph_yvalues = np.array(resources)\n",
    "\n",
    "\n",
    "plt.bar(job_graph_xvalues, job_graph_yvalues, label='jobs', width=0.5)\n",
    "plt.bar(job_graph_xvalues, bad_job_graph_yvalues, label='bad jobs', width=0.5, color='green')\n",
    "plt.plot(job_graph_xvalues, resources_graph_yvalues, label='resources', color='orange')\n",
    "\n",
    "plt.xlabel(\"Time\")\n",
    "plt.ylabel(\"Power Units\")\n",
    "plt.legend()\n",
    "\n",
    "plt.show()"
   ]
  }
 ],
 "metadata": {
  "kernelspec": {
   "display_name": "Python 3",
   "language": "python",
   "name": "python3"
  },
  "language_info": {
   "codemirror_mode": {
    "name": "ipython",
    "version": 3
   },
   "file_extension": ".py",
   "mimetype": "text/x-python",
   "name": "python",
   "nbconvert_exporter": "python",
   "pygments_lexer": "ipython3",
   "version": "3.10.12"
  }
 },
 "nbformat": 4,
 "nbformat_minor": 5
}
